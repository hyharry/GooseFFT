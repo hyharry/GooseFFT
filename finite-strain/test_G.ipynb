{
 "cells": [
  {
   "cell_type": "code",
   "execution_count": 1,
   "metadata": {},
   "outputs": [
    {
     "name": "stdout",
     "output_type": "stream",
     "text": [
      "[[0.]\n",
      " [0.]\n",
      " [1.]]\n",
      "[[0.]\n",
      " [0.]\n",
      " [0.]]\n",
      "[[0.]\n",
      " [0.]\n",
      " [0.]]\n",
      "[[1. 1. 0.]\n",
      " [0. 1. 0.]\n",
      " [0. 0. 1.]]\n",
      "  1.69e-01\n",
      "  7.58e-02\n",
      "  1.07e-02\n",
      "  3.43e-04\n",
      "  7.44e-07\n"
     ]
    }
   ],
   "source": [
    "%run hyper-elasticity_debug.py"
   ]
  },
  {
   "cell_type": "code",
   "execution_count": 2,
   "metadata": {},
   "outputs": [
    {
     "name": "stdout",
     "output_type": "stream",
     "text": [
      "Variable       Type        Data/Info\n",
      "------------------------------------\n",
      "DbarF          ndarray     3x3x3x3x1: 81 elems, type `float64`, 648 bytes\n",
      "F              ndarray     3x3x3x3x1: 81 elems, type `float64`, 648 bytes\n",
      "Fn             float64     6.0\n",
      "G              function    <function <lambda> at 0x7f0ae2f12710>\n",
      "G_K_dF         function    <function <lambda> at 0x7f0ae2f12830>\n",
      "Ghat4          ndarray     3x3x3x3x3x3x1: 729 elems, type `float64`, 5832 bytes\n",
      "I              ndarray     3x3x3x3x1: 81 elems, type `float64`, 648 bytes\n",
      "I4             ndarray     3x3x3x3x3x3x1: 729 elems, type `float64`, 5832 bytes\n",
      "I4rt           ndarray     3x3x3x3x3x3x1: 729 elems, type `float64`, 5832 bytes\n",
      "I4s            ndarray     3x3x3x3x3x3x1: 729 elems, type `float64`, 5832 bytes\n",
      "II             ndarray     3x3x3x3x3x3x1: 729 elems, type `float64`, 5832 bytes\n",
      "K              ndarray     3x3x1: 9 elems, type `float64`, 72 bytes\n",
      "K4             ndarray     3x3x3x3x3x3x1: 729 elems, type `float64`, 5832 bytes\n",
      "K_dF           function    <function <lambda> at 0x7f0ae2f127a0>\n",
      "Nx             int         3\n",
      "Ny             int         3\n",
      "Nz             int         1\n",
      "P              ndarray     3x3x3x3x1: 81 elems, type `float64`, 648 bytes\n",
      "Q              ndarray     3x3x1: 9 elems, type `float64`, 72 bytes\n",
      "Z              ndarray     3x3x1: 9 elems, type `bool`, 9 bytes\n",
      "b              ndarray     81: 81 elems, type `float64`, 648 bytes\n",
      "constitutive   function    <function constitutive at 0x7f0ae2f12d40>\n",
      "dFm            ndarray     81: 81 elems, type `float64`, 648 bytes\n",
      "ddot42         function    <function <lambda> at 0x7f0af81c7130>\n",
      "ddot44         function    <function <lambda> at 0x7f0af81c7370>\n",
      "delta          function    <function <lambda> at 0x7f0ae2f12560>\n",
      "dot11          function    <function <lambda> at 0x7f0ae2f124d0>\n",
      "dot22          function    <function <lambda> at 0x7f0ae2f12290>\n",
      "dot24          function    <function <lambda> at 0x7f0ae2f12320>\n",
      "dot42          function    <function <lambda> at 0x7f0ae2f123b0>\n",
      "dyad22         function    <function <lambda> at 0x7f0ae2f12440>\n",
      "fft            function    <function <lambda> at 0x7f0ae2f125f0>\n",
      "freq           ndarray     1: 1 elems, type `int64`, 8 bytes\n",
      "i              int         2\n",
      "ifft           function    <function <lambda> at 0x7f0ae2f12680>\n",
      "iiter          int         4\n",
      "itertools      module      <module 'itertools' (built-in)>\n",
      "j              int         2\n",
      "l              int         2\n",
      "m              int         2\n",
      "mu             ndarray     3x3x1: 9 elems, type `float64`, 72 bytes\n",
      "ndim           int         3\n",
      "norm           ndarray     3x3x1: 9 elems, type `float64`, 72 bytes\n",
      "np             module      <module 'numpy' from '/ho<...>kages/numpy/__init__.py'>\n",
      "param          function    <function <lambda> at 0x7f0ae2f12dd0>\n",
      "phase          ndarray     3x3x1: 9 elems, type `float64`, 72 bytes\n",
      "q              ndarray     3x3x3x1: 27 elems, type `float64`, 216 bytes\n",
      "shape          list        n=3\n",
      "sp             module      <module 'scipy.sparse.lin<...>arse/linalg/__init__.py'>\n",
      "trans2         function    <function <lambda> at 0x7f0b18f308b0>\n",
      "x              ndarray     3x3x3x1: 27 elems, type `int64`, 216 bytes\n"
     ]
    }
   ],
   "source": [
    "whos"
   ]
  },
  {
   "cell_type": "code",
   "execution_count": 3,
   "metadata": {},
   "outputs": [
    {
     "data": {
      "text/plain": [
       "(3, 3, 3, 3, 1)"
      ]
     },
     "execution_count": 3,
     "metadata": {},
     "output_type": "execute_result"
    }
   ],
   "source": [
    "tmp_1 = fft(F)\n",
    "tmp_1.shape"
   ]
  },
  {
   "cell_type": "code",
   "execution_count": 4,
   "metadata": {},
   "outputs": [
    {
     "data": {
      "text/plain": [
       "(3, 3, 3, 3, 3, 3, 1)"
      ]
     },
     "execution_count": 4,
     "metadata": {},
     "output_type": "execute_result"
    }
   ],
   "source": [
    "Ghat4.shape"
   ]
  },
  {
   "cell_type": "code",
   "execution_count": 12,
   "metadata": {},
   "outputs": [],
   "source": [
    "F_rand = np.random.rand(*F.shape)"
   ]
  },
  {
   "cell_type": "code",
   "execution_count": 14,
   "metadata": {},
   "outputs": [
    {
     "data": {
      "text/plain": [
       "5.067310580750068"
      ]
     },
     "execution_count": 14,
     "metadata": {},
     "output_type": "execute_result"
    }
   ],
   "source": [
    "np.linalg.norm(F_rand)"
   ]
  },
  {
   "cell_type": "code",
   "execution_count": null,
   "metadata": {},
   "outputs": [],
   "source": [
    "# Function to compute the curl of a vector field component\n",
    "def compute_curl(U, V, W):\n",
    "    curl_x = np.gradient(W, axis=2) - np.gradient(V, axis=3)\n",
    "    curl_y = np.gradient(U, axis=3) - np.gradient(W, axis=1)\n",
    "    curl_z = np.gradient(V, axis=1) - np.gradient(U, axis=2)\n",
    "    return np.array([curl_x, curl_y, curl_z])\n",
    "\n",
    "def curl_F(F): # F in shape [3,3,nx,ny,nz]\n",
    "    # Initialize an array to store the curl of the tensor field\n",
    "    curl_F = np.zeros((3, 3, *F.shape[2:]))\n",
    "\n",
    "    # Compute the curl for each component of the stress tensor\n",
    "    for i in range(3):\n",
    "        for j in range(3):\n",
    "            curl_F[i, j] = compute_curl(F[(i+1)%3, (j+1)%3], F[(i+2)%3, (j+1)%3], F[(i+2)%3, (j+2)%3])\n",
    "\n",
    "    # curl_F is the resulting field\n",
    "    return curl_F"
   ]
  },
  {
   "cell_type": "code",
   "execution_count": 18,
   "metadata": {},
   "outputs": [],
   "source": [
    "G??"
   ]
  },
  {
   "cell_type": "code",
   "execution_count": 20,
   "metadata": {},
   "outputs": [
    {
     "data": {
      "text/plain": [
       "(3, 3, 3, 3, 1)"
      ]
     },
     "execution_count": 20,
     "metadata": {},
     "output_type": "execute_result"
    }
   ],
   "source": [
    "tmp_2 = ddot42(Ghat4, tmp_1)\n",
    "tmp_2.shape"
   ]
  },
  {
   "cell_type": "code",
   "execution_count": 21,
   "metadata": {},
   "outputs": [
    {
     "data": {
      "text/plain": [
       "(3, 3, 3, 3, 1)"
      ]
     },
     "execution_count": 21,
     "metadata": {},
     "output_type": "execute_result"
    }
   ],
   "source": [
    "tmp_3 = ifft(tmp_2)\n",
    "tmp_3.shape"
   ]
  },
  {
   "cell_type": "code",
   "execution_count": 22,
   "metadata": {},
   "outputs": [
    {
     "data": {
      "text/plain": [
       "(81,)"
      ]
     },
     "execution_count": 22,
     "metadata": {},
     "output_type": "execute_result"
    }
   ],
   "source": [
    "tmp_3.reshape(-1).shape"
   ]
  },
  {
   "cell_type": "code",
   "execution_count": 24,
   "metadata": {},
   "outputs": [],
   "source": [
    "%less hyper-elasticity_debug.py"
   ]
  },
  {
   "cell_type": "code",
   "execution_count": 25,
   "metadata": {},
   "outputs": [
    {
     "name": "stdout",
     "output_type": "stream",
     "text": [
      "DbarF\t F\t Fn\t G\t G_K_dF\t Ghat4\t I\t I4\t I4rt\t \n",
      "I4s\t II\t K\t K4\t K_dF\t Nx\t Ny\t Nz\t P\t \n",
      "Q\t Z\t b\t constitutive\t dFm\t ddot42\t ddot44\t delta\t dot11\t \n",
      "dot22\t dot24\t dot42\t dyad22\t fft\t freq\t i\t ifft\t iiter\t \n",
      "itertools\t j\t l\t m\t mu\t ndim\t norm\t np\t param\t \n",
      "phase\t q\t shape\t sp\t tmp_1\t tmp_2\t tmp_3\t trans2\t x\t \n",
      "\n"
     ]
    }
   ],
   "source": [
    "who"
   ]
  },
  {
   "cell_type": "code",
   "execution_count": 29,
   "metadata": {},
   "outputs": [
    {
     "data": {
      "text/plain": [
       "(3, 3, 1)"
      ]
     },
     "execution_count": 29,
     "metadata": {},
     "output_type": "execute_result"
    }
   ],
   "source": [
    "mu.shape"
   ]
  },
  {
   "cell_type": "code",
   "execution_count": null,
   "metadata": {},
   "outputs": [],
   "source": [
    "q"
   ]
  }
 ],
 "metadata": {
  "kernelspec": {
   "display_name": "Python 3",
   "language": "python",
   "name": "python3"
  },
  "language_info": {
   "codemirror_mode": {
    "name": "ipython",
    "version": 3
   },
   "file_extension": ".py",
   "mimetype": "text/x-python",
   "name": "python",
   "nbconvert_exporter": "python",
   "pygments_lexer": "ipython3",
   "version": "3.10.12"
  }
 },
 "nbformat": 4,
 "nbformat_minor": 4
}
