{
 "cells": [
  {
   "cell_type": "code",
   "execution_count": 1,
   "metadata": {},
   "outputs": [],
   "source": [
    "import numpy as np"
   ]
  },
  {
   "cell_type": "code",
   "execution_count": 27,
   "metadata": {},
   "outputs": [],
   "source": [
    "a = np.ones((3,3,2,2,2))"
   ]
  },
  {
   "cell_type": "code",
   "execution_count": 28,
   "metadata": {},
   "outputs": [],
   "source": [
    "a[0,1,0,1,0] = 100"
   ]
  },
  {
   "cell_type": "code",
   "execution_count": 29,
   "metadata": {},
   "outputs": [],
   "source": [
    "b = a + np.arange(9).reshape((3,3,1,1,1))"
   ]
  },
  {
   "cell_type": "code",
   "execution_count": 30,
   "metadata": {},
   "outputs": [
    {
     "data": {
      "text/plain": [
       "array([[  1., 101.,   3.],\n",
       "       [  4.,   5.,   6.],\n",
       "       [  7.,   8.,   9.]])"
      ]
     },
     "execution_count": 30,
     "metadata": {},
     "output_type": "execute_result"
    }
   ],
   "source": [
    "b[:,:,0,1,0]"
   ]
  },
  {
   "cell_type": "code",
   "execution_count": 38,
   "metadata": {},
   "outputs": [
    {
     "data": {
      "text/plain": [
       "(3, 3, 2, 2, 2)"
      ]
     },
     "execution_count": 38,
     "metadata": {},
     "output_type": "execute_result"
    }
   ],
   "source": [
    "b.shape"
   ]
  },
  {
   "cell_type": "code",
   "execution_count": 37,
   "metadata": {},
   "outputs": [
    {
     "data": {
      "text/plain": [
       "array([[ 1.   , 14.375,  3.   ],\n",
       "       [ 4.   ,  5.   ,  6.   ],\n",
       "       [ 7.   ,  8.   ,  9.   ]])"
      ]
     },
     "execution_count": 37,
     "metadata": {},
     "output_type": "execute_result"
    }
   ],
   "source": [
    "b.mean(axis=(2,3,4))"
   ]
  },
  {
   "cell_type": "code",
   "execution_count": null,
   "metadata": {},
   "outputs": [],
   "source": [
    "# test changed operator due to global variable\n",
    "const = 10\n",
    "f = lambda x : x + const\n",
    "const = 10000\n",
    "f(2)"
   ]
  },
  {
   "cell_type": "code",
   "execution_count": 24,
   "metadata": {},
   "outputs": [
    {
     "data": {
      "text/plain": [
       "(3, 3, 1, 1, 1)"
      ]
     },
     "execution_count": 24,
     "metadata": {},
     "output_type": "execute_result"
    }
   ],
   "source": [
    "# test adding new dim\n",
    "tmp[:,:,np.newaxis,np.newaxis,np.newaxis].shape"
   ]
  },
  {
   "cell_type": "code",
   "execution_count": 2,
   "metadata": {},
   "outputs": [],
   "source": [
    "i, j = 0, 1"
   ]
  },
  {
   "cell_type": "code",
   "execution_count": 5,
   "metadata": {},
   "outputs": [
    {
     "data": {
      "text/plain": [
       "False"
      ]
     },
     "execution_count": 5,
     "metadata": {},
     "output_type": "execute_result"
    }
   ],
   "source": [
    "[i,j] == [1,0]"
   ]
  },
  {
   "cell_type": "code",
   "execution_count": 13,
   "metadata": {},
   "outputs": [],
   "source": [
    "# Function to compute the curl of a vector field component\n",
    "def compute_curl(U, V, W):\n",
    "    curl_x = np.gradient(W, axis=1) - np.gradient(V, axis=2)\n",
    "    curl_y = np.gradient(U, axis=2) - np.gradient(W, axis=0)\n",
    "    curl_z = np.gradient(V, axis=0) - np.gradient(U, axis=1)\n",
    "    return np.array([curl_x, curl_y, curl_z])\n",
    "\n",
    "def curl_F(F): # F in shape [3,3,nx,ny,nz]\n",
    "    # Initialize an array to store the curl of the tensor field\n",
    "    curl_F = np.zeros((3, 3, *F.shape[2:]))\n",
    "\n",
    "    # Compute the curl for each component of the stress tensor\n",
    "    for i in range(3):\n",
    "        for j in range(3):\n",
    "            curl_F[i, j] = compute_curl(F[(i+1)%3, (j+1)%3], F[(i+2)%3, (j+1)%3], F[(i+2)%3, (j+2)%3])\n",
    "\n",
    "    # curl_F is the resulting field\n",
    "    return curl_F"
   ]
  },
  {
   "cell_type": "code",
   "execution_count": 59,
   "metadata": {},
   "outputs": [],
   "source": [
    "e_ijk = lambda i,j,k: (i-j)*(j-k)*(k-i)/2\n",
    "F_jk_i = lambda F,j,k,i: np.gradient(F[j,k,:,:,:],axis=i)\n",
    "curl_F_mk = lambda F,m,k: np.sum([e_ijk(i,j,m)*F_jk_i(F,j,k,i) for i,j in itertools.product(range(3),repeat=2)],axis=0)\n",
    "curl_F = lambda F: np.array([curl_F_mk(F,m,k) for m,k in itertools.product(range(3),repeat=2)]).reshape(F.shape)"
   ]
  },
  {
   "cell_type": "markdown",
   "metadata": {},
   "source": [
    "try to use DAMASK grid_filters to check consistency"
   ]
  },
  {
   "cell_type": "code",
   "execution_count": 65,
   "metadata": {},
   "outputs": [],
   "source": [
    "cF = curl_F(F_rand).shape\n"
   ]
  },
  {
   "cell_type": "code",
   "execution_count": 66,
   "metadata": {},
   "outputs": [
    {
     "data": {
      "text/plain": [
       "9.643650760992955"
      ]
     },
     "execution_count": 66,
     "metadata": {},
     "output_type": "execute_result"
    }
   ],
   "source": [
    "np.linalg.norm(cF)"
   ]
  },
  {
   "cell_type": "code",
   "execution_count": 67,
   "metadata": {},
   "outputs": [
    {
     "data": {
      "text/plain": [
       "8.189518702692673"
      ]
     },
     "execution_count": 67,
     "metadata": {},
     "output_type": "execute_result"
    }
   ],
   "source": [
    "G_x = lambda F_rand: G(F_rand).reshape([3,3,*shape])\n",
    "GGG_F_rand = G_x(G_x(G_x(G_x(G_x(F_rand)))))\n",
    "c_GGG_F = curl_F(GGG_F_rand)\n",
    "np.linalg.norm(c_GGG_F)"
   ]
  },
  {
   "cell_type": "code",
   "execution_count": 70,
   "metadata": {},
   "outputs": [
    {
     "data": {
      "text/plain": [
       "8.189518702692672"
      ]
     },
     "execution_count": 70,
     "metadata": {},
     "output_type": "execute_result"
    }
   ],
   "source": [
    "GFr = G_x(F_rand)\n",
    "cGFr = curl_F(GFr)\n",
    "np.linalg.norm(cGFr)"
   ]
  },
  {
   "cell_type": "code",
   "execution_count": 24,
   "metadata": {},
   "outputs": [
    {
     "data": {
      "text/plain": [
       "(3, 3, 5, 5, 5)"
      ]
     },
     "execution_count": 24,
     "metadata": {},
     "output_type": "execute_result"
    }
   ],
   "source": [
    "np.reshape(G_F_rand,[3,3,*shape]).shape"
   ]
  },
  {
   "cell_type": "code",
   "execution_count": 17,
   "metadata": {},
   "outputs": [],
   "source": [
    "# Function to compute the 2D curl-like operation for a component\n",
    "def compute_curl_2d(U, V):\n",
    "    curl = np.gradient(V, axis=2) - np.gradient(U, axis=3)\n",
    "    return curl\n",
    "\n",
    "def curl_F_2(F):\n",
    "    # Initialize an array to store the curl of the tensor field\n",
    "    curl_F = np.zeros((3, 3, *F.shape[2:]))\n",
    "\n",
    "    # Compute the curl for each component of the stress tensor\n",
    "    # Note: The last dimension is squeezed since nz = 1\n",
    "    for i in range(3):\n",
    "        for j in range(3):\n",
    "            U = F[(i+1)%3, (j+1)%3, :, :, 0]\n",
    "            V = F[(i+2)%3, (j+1)%3, :, :, 0]\n",
    "            curl_F[i, j, :, :, 0] = compute_curl_2d(U, V)\n",
    "\n",
    "    # curl_F is the resulting field\n",
    "    return curl_F"
   ]
  },
  {
   "cell_type": "code",
   "execution_count": 20,
   "metadata": {},
   "outputs": [
    {
     "data": {
      "text/plain": [
       "(3, 3, 3, 3, 1)"
      ]
     },
     "execution_count": 20,
     "metadata": {},
     "output_type": "execute_result"
    }
   ],
   "source": [
    "tmp_2 = ddot42(Ghat4, tmp_1)\n",
    "tmp_2.shape"
   ]
  },
  {
   "cell_type": "code",
   "execution_count": null,
   "metadata": {},
   "outputs": [],
   "source": [
    "q"
   ]
  }
 ],
 "metadata": {
  "kernelspec": {
   "display_name": "Python 3",
   "language": "python",
   "name": "python3"
  },
  "language_info": {
   "codemirror_mode": {
    "name": "ipython",
    "version": 3
   },
   "file_extension": ".py",
   "mimetype": "text/x-python",
   "name": "python",
   "nbconvert_exporter": "python",
   "pygments_lexer": "ipython3",
   "version": "3.10.12"
  }
 },
 "nbformat": 4,
 "nbformat_minor": 4
}
