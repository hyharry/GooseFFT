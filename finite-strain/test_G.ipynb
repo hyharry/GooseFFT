{
 "cells": [
  {
   "cell_type": "code",
   "execution_count": 1,
   "metadata": {},
   "outputs": [],
   "source": [
    "import numpy as np"
   ]
  },
  {
   "cell_type": "code",
   "execution_count": 27,
   "metadata": {},
   "outputs": [],
   "source": [
    "a = np.ones((3,3,2,2,2))"
   ]
  },
  {
   "cell_type": "code",
   "execution_count": 28,
   "metadata": {},
   "outputs": [],
   "source": [
    "a[0,1,0,1,0] = 100"
   ]
  },
  {
   "cell_type": "code",
   "execution_count": 29,
   "metadata": {},
   "outputs": [],
   "source": [
    "b = a + np.arange(9).reshape((3,3,1,1,1))"
   ]
  },
  {
   "cell_type": "code",
   "execution_count": 30,
   "metadata": {},
   "outputs": [
    {
     "data": {
      "text/plain": [
       "array([[  1., 101.,   3.],\n",
       "       [  4.,   5.,   6.],\n",
       "       [  7.,   8.,   9.]])"
      ]
     },
     "execution_count": 30,
     "metadata": {},
     "output_type": "execute_result"
    }
   ],
   "source": [
    "b[:,:,0,1,0]"
   ]
  },
  {
   "cell_type": "code",
   "execution_count": 38,
   "metadata": {},
   "outputs": [
    {
     "data": {
      "text/plain": [
       "(3, 3, 2, 2, 2)"
      ]
     },
     "execution_count": 38,
     "metadata": {},
     "output_type": "execute_result"
    }
   ],
   "source": [
    "b.shape"
   ]
  },
  {
   "cell_type": "code",
   "execution_count": 37,
   "metadata": {},
   "outputs": [
    {
     "data": {
      "text/plain": [
       "array([[ 1.   , 14.375,  3.   ],\n",
       "       [ 4.   ,  5.   ,  6.   ],\n",
       "       [ 7.   ,  8.   ,  9.   ]])"
      ]
     },
     "execution_count": 37,
     "metadata": {},
     "output_type": "execute_result"
    }
   ],
   "source": [
    "b.mean(axis=(2,3,4))"
   ]
  },
  {
   "cell_type": "code",
   "execution_count": 39,
   "metadata": {},
   "outputs": [],
   "source": [
    "const = 10"
   ]
  },
  {
   "cell_type": "code",
   "execution_count": 40,
   "metadata": {},
   "outputs": [],
   "source": [
    "f = lambda x : x + const"
   ]
  },
  {
   "cell_type": "code",
   "execution_count": 42,
   "metadata": {},
   "outputs": [],
   "source": [
    "const = 10000"
   ]
  },
  {
   "cell_type": "code",
   "execution_count": 43,
   "metadata": {},
   "outputs": [
    {
     "data": {
      "text/plain": [
       "10002"
      ]
     },
     "execution_count": 43,
     "metadata": {},
     "output_type": "execute_result"
    }
   ],
   "source": [
    "f(2)"
   ]
  },
  {
   "cell_type": "code",
   "execution_count": null,
   "metadata": {},
   "outputs": [],
   "source": []
  },
  {
   "cell_type": "code",
   "execution_count": 24,
   "metadata": {},
   "outputs": [
    {
     "data": {
      "text/plain": [
       "(3, 3, 1, 1, 1)"
      ]
     },
     "execution_count": 24,
     "metadata": {},
     "output_type": "execute_result"
    }
   ],
   "source": [
    "tmp[:,:,np.newaxis,np.newaxis,np.newaxis].shape"
   ]
  },
  {
   "cell_type": "code",
   "execution_count": 22,
   "metadata": {},
   "outputs": [],
   "source": [
    "np.newaxis"
   ]
  },
  {
   "cell_type": "code",
   "execution_count": 1,
   "metadata": {},
   "outputs": [
    {
     "name": "stdout",
     "output_type": "stream",
     "text": [
      "[[0. 0. 0. 0. 0.]\n",
      " [0. 0. 0. 0. 0.]\n",
      " [0. 0. 0. 0. 0.]\n",
      " [0. 0. 0. 0. 0.]\n",
      " [0. 0. 0. 0. 1.]]\n",
      "[[0. 0. 0. 0. 0.]\n",
      " [0. 0. 0. 0. 0.]\n",
      " [0. 0. 0. 0. 0.]\n",
      " [0. 0. 0. 0. 0.]\n",
      " [0. 0. 0. 0. 0.]]\n",
      "[[0. 0. 0. 0. 0.]\n",
      " [0. 0. 0. 0. 0.]\n",
      " [0. 0. 0. 0. 0.]\n",
      " [0. 0. 0. 0. 0.]\n",
      " [0. 0. 0. 0. 0.]]\n",
      "[[1. 1. 0.]\n",
      " [0. 1. 0.]\n",
      " [0. 0. 1.]]\n",
      "  4.98e-02\n",
      "  1.95e-02\n",
      "  2.45e-03\n",
      "  9.92e-05\n",
      "  1.96e-07\n"
     ]
    }
   ],
   "source": [
    "%run hyper-elasticity_debug.py"
   ]
  },
  {
   "cell_type": "code",
   "execution_count": 2,
   "metadata": {},
   "outputs": [
    {
     "name": "stdout",
     "output_type": "stream",
     "text": [
      "Variable       Type        Data/Info\n",
      "------------------------------------\n",
      "DbarF          ndarray     3x3x5x5x5: 1125 elems, type `float64`, 9000 bytes\n",
      "F              ndarray     3x3x5x5x5: 1125 elems, type `float64`, 9000 bytes\n",
      "Fn             float64     22.360679774997898\n",
      "G              function    <function <lambda> at 0x7f18cbff63b0>\n",
      "G_K_dF         function    <function <lambda> at 0x7f18cbff64d0>\n",
      "Ghat4          ndarray     3x3x3x3x5x5x5: 10125 elems, type `float64`, 81000 bytes\n",
      "I              ndarray     3x3x5x5x5: 1125 elems, type `float64`, 9000 bytes\n",
      "I4             ndarray     3x3x3x3x5x5x5: 10125 elems, type `float64`, 81000 bytes\n",
      "I4rt           ndarray     3x3x3x3x5x5x5: 10125 elems, type `float64`, 81000 bytes\n",
      "I4s            ndarray     3x3x3x3x5x5x5: 10125 elems, type `float64`, 81000 bytes\n",
      "II             ndarray     3x3x3x3x5x5x5: 10125 elems, type `float64`, 81000 bytes\n",
      "K              ndarray     5x5x5: 125 elems, type `float64`, 1000 bytes\n",
      "K4             ndarray     3x3x3x3x5x5x5: 10125 elems, type `float64`, 81000 bytes\n",
      "K_dF           function    <function <lambda> at 0x7f18cbff6440>\n",
      "Nx             int         5\n",
      "Ny             int         5\n",
      "Nz             int         5\n",
      "P              ndarray     3x3x5x5x5: 1125 elems, type `float64`, 9000 bytes\n",
      "Q              ndarray     5x5x5: 125 elems, type `float64`, 1000 bytes\n",
      "Z              ndarray     5x5x5: 125 elems, type `bool`, 125 bytes\n",
      "b              ndarray     1125: 1125 elems, type `float64`, 9000 bytes\n",
      "constitutive   function    <function constitutive at 0x7f18cbff6a70>\n",
      "dFm            ndarray     1125: 1125 elems, type `float64`, 9000 bytes\n",
      "ddot42         function    <function <lambda> at 0x7f18d623add0>\n",
      "ddot44         function    <function <lambda> at 0x7f18d623b010>\n",
      "delta          function    <function <lambda> at 0x7f18cbff6200>\n",
      "dot11          function    <function <lambda> at 0x7f18cbff6170>\n",
      "dot22          function    <function <lambda> at 0x7f18cbff5f30>\n",
      "dot24          function    <function <lambda> at 0x7f18cbff5fc0>\n",
      "dot42          function    <function <lambda> at 0x7f18cbff6050>\n",
      "dyad22         function    <function <lambda> at 0x7f18cbff60e0>\n",
      "fft            function    <function <lambda> at 0x7f18cbff6290>\n",
      "freq           ndarray     5: 5 elems, type `int64`, 40 bytes\n",
      "i              int         2\n",
      "ifft           function    <function <lambda> at 0x7f18cbff6320>\n",
      "iiter          int         4\n",
      "itertools      module      <module 'itertools' (built-in)>\n",
      "j              int         2\n",
      "l              int         2\n",
      "m              int         2\n",
      "mu             ndarray     5x5x5: 125 elems, type `float64`, 1000 bytes\n",
      "ndim           int         3\n",
      "norm           ndarray     5x5x5: 125 elems, type `float64`, 1000 bytes\n",
      "np             module      <module 'numpy' from '/ho<...>kages/numpy/__init__.py'>\n",
      "param          function    <function <lambda> at 0x7f18cbff6cb0>\n",
      "phase          ndarray     5x5x5: 125 elems, type `float64`, 1000 bytes\n",
      "q              ndarray     3x5x5x5: 375 elems, type `float64`, 3000 bytes\n",
      "shape          list        n=3\n",
      "sp             module      <module 'scipy.sparse.lin<...>arse/linalg/__init__.py'>\n",
      "trans2         function    <function <lambda> at 0x7f1908ae0a60>\n",
      "x              ndarray     3x5x5x5: 375 elems, type `int64`, 3000 bytes\n"
     ]
    }
   ],
   "source": [
    "whos"
   ]
  },
  {
   "cell_type": "code",
   "execution_count": 3,
   "metadata": {},
   "outputs": [
    {
     "data": {
      "text/plain": [
       "(3, 3, 5, 5, 5)"
      ]
     },
     "execution_count": 3,
     "metadata": {},
     "output_type": "execute_result"
    }
   ],
   "source": [
    "tmp_1 = fft(F)\n",
    "tmp_1.shape"
   ]
  },
  {
   "cell_type": "code",
   "execution_count": 4,
   "metadata": {},
   "outputs": [
    {
     "data": {
      "text/plain": [
       "(3, 3, 3, 3, 5, 5, 5)"
      ]
     },
     "execution_count": 4,
     "metadata": {},
     "output_type": "execute_result"
    }
   ],
   "source": [
    "Ghat4.shape"
   ]
  },
  {
   "cell_type": "code",
   "execution_count": 61,
   "metadata": {},
   "outputs": [],
   "source": [
    "F_rand = np.random.rand(*F.shape)"
   ]
  },
  {
   "cell_type": "code",
   "execution_count": 8,
   "metadata": {},
   "outputs": [
    {
     "data": {
      "text/plain": [
       "19.00174854076234"
      ]
     },
     "execution_count": 8,
     "metadata": {},
     "output_type": "execute_result"
    }
   ],
   "source": [
    "np.linalg.norm(F_rand)"
   ]
  },
  {
   "cell_type": "code",
   "execution_count": 13,
   "metadata": {},
   "outputs": [],
   "source": [
    "# Function to compute the curl of a vector field component\n",
    "def compute_curl(U, V, W):\n",
    "    curl_x = np.gradient(W, axis=1) - np.gradient(V, axis=2)\n",
    "    curl_y = np.gradient(U, axis=2) - np.gradient(W, axis=0)\n",
    "    curl_z = np.gradient(V, axis=0) - np.gradient(U, axis=1)\n",
    "    return np.array([curl_x, curl_y, curl_z])\n",
    "\n",
    "def curl_F(F): # F in shape [3,3,nx,ny,nz]\n",
    "    # Initialize an array to store the curl of the tensor field\n",
    "    curl_F = np.zeros((3, 3, *F.shape[2:]))\n",
    "\n",
    "    # Compute the curl for each component of the stress tensor\n",
    "    for i in range(3):\n",
    "        for j in range(3):\n",
    "            curl_F[i, j] = compute_curl(F[(i+1)%3, (j+1)%3], F[(i+2)%3, (j+1)%3], F[(i+2)%3, (j+2)%3])\n",
    "\n",
    "    # curl_F is the resulting field\n",
    "    return curl_F"
   ]
  },
  {
   "cell_type": "code",
   "execution_count": 59,
   "metadata": {},
   "outputs": [],
   "source": [
    "e_ijk = lambda i,j,k: (i-j)*(j-k)*(k-i)/2\n",
    "F_jk_i = lambda F,j,k,i: np.gradient(F[j,k,:,:,:],axis=i)\n",
    "curl_F_mk = lambda F,m,k: np.sum([e_ijk(i,j,m)*F_jk_i(F,j,k,i) for i,j in itertools.product(range(3),repeat=2)],axis=0)\n",
    "curl_F = lambda F: np.array([curl_F_mk(F,m,k) for m,k in itertools.product(range(3),repeat=2)]).reshape(F.shape)"
   ]
  },
  {
   "cell_type": "markdown",
   "metadata": {},
   "source": [
    "try to use DAMASK grid_filters to check consistency"
   ]
  },
  {
   "cell_type": "code",
   "execution_count": 65,
   "metadata": {},
   "outputs": [],
   "source": [
    "cF = curl_F(F_rand).shape\n"
   ]
  },
  {
   "cell_type": "code",
   "execution_count": 66,
   "metadata": {},
   "outputs": [
    {
     "data": {
      "text/plain": [
       "9.643650760992955"
      ]
     },
     "execution_count": 66,
     "metadata": {},
     "output_type": "execute_result"
    }
   ],
   "source": [
    "np.linalg.norm(cF)"
   ]
  },
  {
   "cell_type": "code",
   "execution_count": 67,
   "metadata": {},
   "outputs": [
    {
     "data": {
      "text/plain": [
       "8.189518702692673"
      ]
     },
     "execution_count": 67,
     "metadata": {},
     "output_type": "execute_result"
    }
   ],
   "source": [
    "G_x = lambda F_rand: G(F_rand).reshape([3,3,*shape])\n",
    "GGG_F_rand = G_x(G_x(G_x(G_x(G_x(F_rand)))))\n",
    "c_GGG_F = curl_F(GGG_F_rand)\n",
    "np.linalg.norm(c_GGG_F)"
   ]
  },
  {
   "cell_type": "code",
   "execution_count": 70,
   "metadata": {},
   "outputs": [
    {
     "data": {
      "text/plain": [
       "8.189518702692672"
      ]
     },
     "execution_count": 70,
     "metadata": {},
     "output_type": "execute_result"
    }
   ],
   "source": [
    "GFr = G_x(F_rand)\n",
    "cGFr = curl_F(GFr)\n",
    "np.linalg.norm(cGFr)"
   ]
  },
  {
   "cell_type": "code",
   "execution_count": 24,
   "metadata": {},
   "outputs": [
    {
     "data": {
      "text/plain": [
       "(3, 3, 5, 5, 5)"
      ]
     },
     "execution_count": 24,
     "metadata": {},
     "output_type": "execute_result"
    }
   ],
   "source": [
    "np.reshape(G_F_rand,[3,3,*shape]).shape"
   ]
  },
  {
   "cell_type": "code",
   "execution_count": 17,
   "metadata": {},
   "outputs": [],
   "source": [
    "# Function to compute the 2D curl-like operation for a component\n",
    "def compute_curl_2d(U, V):\n",
    "    curl = np.gradient(V, axis=2) - np.gradient(U, axis=3)\n",
    "    return curl\n",
    "\n",
    "def curl_F_2(F):\n",
    "    # Initialize an array to store the curl of the tensor field\n",
    "    curl_F = np.zeros((3, 3, *F.shape[2:]))\n",
    "\n",
    "    # Compute the curl for each component of the stress tensor\n",
    "    # Note: The last dimension is squeezed since nz = 1\n",
    "    for i in range(3):\n",
    "        for j in range(3):\n",
    "            U = F[(i+1)%3, (j+1)%3, :, :, 0]\n",
    "            V = F[(i+2)%3, (j+1)%3, :, :, 0]\n",
    "            curl_F[i, j, :, :, 0] = compute_curl_2d(U, V)\n",
    "\n",
    "    # curl_F is the resulting field\n",
    "    return curl_F"
   ]
  },
  {
   "cell_type": "code",
   "execution_count": 20,
   "metadata": {},
   "outputs": [
    {
     "data": {
      "text/plain": [
       "(3, 3, 3, 3, 1)"
      ]
     },
     "execution_count": 20,
     "metadata": {},
     "output_type": "execute_result"
    }
   ],
   "source": [
    "tmp_2 = ddot42(Ghat4, tmp_1)\n",
    "tmp_2.shape"
   ]
  },
  {
   "cell_type": "code",
   "execution_count": 21,
   "metadata": {},
   "outputs": [
    {
     "data": {
      "text/plain": [
       "(3, 3, 3, 3, 1)"
      ]
     },
     "execution_count": 21,
     "metadata": {},
     "output_type": "execute_result"
    }
   ],
   "source": [
    "tmp_3 = ifft(tmp_2)\n",
    "tmp_3.shape"
   ]
  },
  {
   "cell_type": "code",
   "execution_count": 22,
   "metadata": {},
   "outputs": [
    {
     "data": {
      "text/plain": [
       "(81,)"
      ]
     },
     "execution_count": 22,
     "metadata": {},
     "output_type": "execute_result"
    }
   ],
   "source": [
    "tmp_3.reshape(-1).shape"
   ]
  },
  {
   "cell_type": "code",
   "execution_count": 24,
   "metadata": {},
   "outputs": [],
   "source": [
    "%less hyper-elasticity_debug.py"
   ]
  },
  {
   "cell_type": "code",
   "execution_count": 25,
   "metadata": {},
   "outputs": [
    {
     "name": "stdout",
     "output_type": "stream",
     "text": [
      "DbarF\t F\t Fn\t G\t G_K_dF\t Ghat4\t I\t I4\t I4rt\t \n",
      "I4s\t II\t K\t K4\t K_dF\t Nx\t Ny\t Nz\t P\t \n",
      "Q\t Z\t b\t constitutive\t dFm\t ddot42\t ddot44\t delta\t dot11\t \n",
      "dot22\t dot24\t dot42\t dyad22\t fft\t freq\t i\t ifft\t iiter\t \n",
      "itertools\t j\t l\t m\t mu\t ndim\t norm\t np\t param\t \n",
      "phase\t q\t shape\t sp\t tmp_1\t tmp_2\t tmp_3\t trans2\t x\t \n",
      "\n"
     ]
    }
   ],
   "source": [
    "who"
   ]
  },
  {
   "cell_type": "code",
   "execution_count": 29,
   "metadata": {},
   "outputs": [
    {
     "data": {
      "text/plain": [
       "(3, 3, 1)"
      ]
     },
     "execution_count": 29,
     "metadata": {},
     "output_type": "execute_result"
    }
   ],
   "source": [
    "mu.shape"
   ]
  },
  {
   "cell_type": "code",
   "execution_count": null,
   "metadata": {},
   "outputs": [],
   "source": [
    "q"
   ]
  }
 ],
 "metadata": {
  "kernelspec": {
   "display_name": "Python 3",
   "language": "python",
   "name": "python3"
  },
  "language_info": {
   "codemirror_mode": {
    "name": "ipython",
    "version": 3
   },
   "file_extension": ".py",
   "mimetype": "text/x-python",
   "name": "python",
   "nbconvert_exporter": "python",
   "pygments_lexer": "ipython3",
   "version": "3.10.12"
  }
 },
 "nbformat": 4,
 "nbformat_minor": 4
}
