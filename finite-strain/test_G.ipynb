{
 "cells": [
  {
   "cell_type": "code",
   "execution_count": 1,
   "metadata": {},
   "outputs": [
    {
     "name": "stdout",
     "output_type": "stream",
     "text": [
      "[[0.]\n",
      " [0.]\n",
      " [1.]]\n",
      "[[0.]\n",
      " [0.]\n",
      " [0.]]\n",
      "[[0.]\n",
      " [0.]\n",
      " [0.]]\n",
      "[[1. 1. 0.]\n",
      " [0. 1. 0.]\n",
      " [0. 0. 1.]]\n",
      "  1.69e-01\n",
      "  7.58e-02\n",
      "  1.07e-02\n",
      "  3.43e-04\n",
      "  7.44e-07\n"
     ]
    }
   ],
   "source": [
    "%run hyper-elasticity_debug.py"
   ]
  },
  {
   "cell_type": "code",
   "execution_count": 2,
   "metadata": {},
   "outputs": [
    {
     "name": "stdout",
     "output_type": "stream",
     "text": [
      "Variable       Type        Data/Info\n",
      "------------------------------------\n",
      "DbarF          ndarray     3x3x3x3x1: 81 elems, type `float64`, 648 bytes\n",
      "F              ndarray     3x3x3x3x1: 81 elems, type `float64`, 648 bytes\n",
      "Fn             float64     6.0\n",
      "G              function    <function <lambda> at 0x14e528a7ea60>\n",
      "G_K_dF         function    <function <lambda> at 0x14e528a7eb80>\n",
      "Ghat4          ndarray     3x3x3x3x3x3x1: 729 elems, type `float64`, 5832 bytes\n",
      "I              ndarray     3x3x3x3x1: 81 elems, type `float64`, 648 bytes\n",
      "I4             ndarray     3x3x3x3x3x3x1: 729 elems, type `float64`, 5832 bytes\n",
      "I4rt           ndarray     3x3x3x3x3x3x1: 729 elems, type `float64`, 5832 bytes\n",
      "I4s            ndarray     3x3x3x3x3x3x1: 729 elems, type `float64`, 5832 bytes\n",
      "II             ndarray     3x3x3x3x3x3x1: 729 elems, type `float64`, 5832 bytes\n",
      "K              ndarray     3x3x1: 9 elems, type `float64`, 72 bytes\n",
      "K4             ndarray     3x3x3x3x3x3x1: 729 elems, type `float64`, 5832 bytes\n",
      "K_dF           function    <function <lambda> at 0x14e528a7eaf0>\n",
      "Nx             int         3\n",
      "Ny             int         3\n",
      "Nz             int         1\n",
      "P              ndarray     3x3x3x3x1: 81 elems, type `float64`, 648 bytes\n",
      "Q              ndarray     3x3x1: 9 elems, type `float64`, 72 bytes\n",
      "Z              ndarray     3x3x1: 9 elems, type `bool`, 9 bytes\n",
      "b              ndarray     81: 81 elems, type `float64`, 648 bytes\n",
      "constitutive   function    <function constitutive at 0x14e528a80430>\n",
      "dFm            ndarray     81: 81 elems, type `float64`, 648 bytes\n",
      "ddot42         function    <function <lambda> at 0x14e528cae790>\n",
      "ddot44         function    <function <lambda> at 0x14e528cae9d0>\n",
      "delta          function    <function <lambda> at 0x14e528a7e8b0>\n",
      "dot11          function    <function <lambda> at 0x14e528a7e820>\n",
      "dot22          function    <function <lambda> at 0x14e528a7e5e0>\n",
      "dot24          function    <function <lambda> at 0x14e528a7e670>\n",
      "dot42          function    <function <lambda> at 0x14e528a7e700>\n",
      "dyad22         function    <function <lambda> at 0x14e528a7e790>\n",
      "fft            function    <function <lambda> at 0x14e528a7e940>\n",
      "freq           ndarray     1: 1 elems, type `int64`, 8 bytes\n",
      "i              int         2\n",
      "ifft           function    <function <lambda> at 0x14e528a7e9d0>\n",
      "iiter          int         4\n",
      "itertools      module      <module 'itertools' (built-in)>\n",
      "j              int         2\n",
      "l              int         2\n",
      "m              int         2\n",
      "mu             ndarray     3x3x1: 9 elems, type `float64`, 72 bytes\n",
      "ndim           int         3\n",
      "norm           ndarray     3x3x1: 9 elems, type `float64`, 72 bytes\n",
      "np             module      <module 'numpy' from '/ho<...>kages/numpy/__init__.py'>\n",
      "param          function    <function <lambda> at 0x14e528a804c0>\n",
      "phase          ndarray     3x3x1: 9 elems, type `float64`, 72 bytes\n",
      "q              ndarray     3x3x3x1: 27 elems, type `float64`, 216 bytes\n",
      "shape          list        n=3\n",
      "sp             module      <module 'scipy.sparse.lin<...>arse/linalg/__init__.py'>\n",
      "trans2         function    <function <lambda> at 0x14e52a9ce700>\n",
      "x              ndarray     3x3x3x1: 27 elems, type `int64`, 216 bytes\n"
     ]
    }
   ],
   "source": [
    "whos"
   ]
  },
  {
   "cell_type": "code",
   "execution_count": 13,
   "metadata": {},
   "outputs": [
    {
     "data": {
      "text/plain": [
       "(3, 3, 3, 3, 1)"
      ]
     },
     "execution_count": 13,
     "metadata": {},
     "output_type": "execute_result"
    }
   ],
   "source": [
    "tmp_1 = fft(F)\n",
    "tmp_1.shape"
   ]
  },
  {
   "cell_type": "code",
   "execution_count": 16,
   "metadata": {},
   "outputs": [
    {
     "data": {
      "text/plain": [
       "(3, 3, 3, 3, 3, 3, 1)"
      ]
     },
     "execution_count": 16,
     "metadata": {},
     "output_type": "execute_result"
    }
   ],
   "source": [
    "Ghat4.shape"
   ]
  },
  {
   "cell_type": "code",
   "execution_count": 17,
   "metadata": {},
   "outputs": [
    {
     "name": "stdout",
     "output_type": "stream",
     "text": [
      "Help on function <lambda> in module __main__:\n",
      "\n",
      "<lambda> lambda A2\n",
      "    # functions for the projection 'G', and the product 'G : K^LT : (delta F)^T'\n",
      "\n"
     ]
    }
   ],
   "source": [
    "help(G)"
   ]
  },
  {
   "cell_type": "code",
   "execution_count": 18,
   "metadata": {},
   "outputs": [],
   "source": [
    "G??"
   ]
  },
  {
   "cell_type": "code",
   "execution_count": 20,
   "metadata": {},
   "outputs": [
    {
     "data": {
      "text/plain": [
       "(3, 3, 3, 3, 1)"
      ]
     },
     "execution_count": 20,
     "metadata": {},
     "output_type": "execute_result"
    }
   ],
   "source": [
    "tmp_2 = ddot42(Ghat4, tmp_1)\n",
    "tmp_2.shape"
   ]
  },
  {
   "cell_type": "code",
   "execution_count": 21,
   "metadata": {},
   "outputs": [
    {
     "data": {
      "text/plain": [
       "(3, 3, 3, 3, 1)"
      ]
     },
     "execution_count": 21,
     "metadata": {},
     "output_type": "execute_result"
    }
   ],
   "source": [
    "tmp_3 = ifft(tmp_2)\n",
    "tmp_3.shape"
   ]
  },
  {
   "cell_type": "code",
   "execution_count": 22,
   "metadata": {},
   "outputs": [
    {
     "data": {
      "text/plain": [
       "(81,)"
      ]
     },
     "execution_count": 22,
     "metadata": {},
     "output_type": "execute_result"
    }
   ],
   "source": [
    "tmp_3.reshape(-1).shape"
   ]
  },
  {
   "cell_type": "code",
   "execution_count": 24,
   "metadata": {},
   "outputs": [],
   "source": [
    "%less hyper-elasticity_debug.py"
   ]
  },
  {
   "cell_type": "code",
   "execution_count": 25,
   "metadata": {},
   "outputs": [
    {
     "name": "stdout",
     "output_type": "stream",
     "text": [
      "DbarF\t F\t Fn\t G\t G_K_dF\t Ghat4\t I\t I4\t I4rt\t \n",
      "I4s\t II\t K\t K4\t K_dF\t Nx\t Ny\t Nz\t P\t \n",
      "Q\t Z\t b\t constitutive\t dFm\t ddot42\t ddot44\t delta\t dot11\t \n",
      "dot22\t dot24\t dot42\t dyad22\t fft\t freq\t i\t ifft\t iiter\t \n",
      "itertools\t j\t l\t m\t mu\t ndim\t norm\t np\t param\t \n",
      "phase\t q\t shape\t sp\t tmp_1\t tmp_2\t tmp_3\t trans2\t x\t \n",
      "\n"
     ]
    }
   ],
   "source": [
    "who"
   ]
  },
  {
   "cell_type": "code",
   "execution_count": 29,
   "metadata": {},
   "outputs": [
    {
     "data": {
      "text/plain": [
       "(3, 3, 1)"
      ]
     },
     "execution_count": 29,
     "metadata": {},
     "output_type": "execute_result"
    }
   ],
   "source": [
    "mu.shape"
   ]
  },
  {
   "cell_type": "code",
   "execution_count": null,
   "metadata": {},
   "outputs": [],
   "source": [
    "q"
   ]
  }
 ],
 "metadata": {
  "kernelspec": {
   "display_name": "Python 3",
   "language": "python",
   "name": "python3"
  },
  "language_info": {
   "codemirror_mode": {
    "name": "ipython",
    "version": 3
   },
   "file_extension": ".py",
   "mimetype": "text/x-python",
   "name": "python",
   "nbconvert_exporter": "python",
   "pygments_lexer": "ipython3",
   "version": "3.8.10"
  }
 },
 "nbformat": 4,
 "nbformat_minor": 4
}
